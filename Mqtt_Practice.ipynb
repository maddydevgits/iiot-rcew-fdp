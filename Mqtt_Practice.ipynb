{
  "nbformat": 4,
  "nbformat_minor": 0,
  "metadata": {
    "colab": {
      "provenance": []
    },
    "kernelspec": {
      "name": "python3",
      "display_name": "Python 3"
    },
    "language_info": {
      "name": "python"
    }
  },
  "cells": [
    {
      "cell_type": "code",
      "execution_count": 4,
      "metadata": {
        "colab": {
          "base_uri": "https://localhost:8080/"
        },
        "id": "eG_0_gMzyTdx",
        "outputId": "030afcb0-1996-485d-cdc8-fd9f340f7cfe"
      },
      "outputs": [
        {
          "output_type": "stream",
          "name": "stdout",
          "text": [
            "Collecting paho-mqtt==1.6\n",
            "  Downloading paho-mqtt-1.6.0.tar.gz (99 kB)\n",
            "\u001b[?25l     \u001b[90m━━━━━━━━━━━━━━━━━━━━━━━━━━━━━━━━━━━━━━━━\u001b[0m \u001b[32m0.0/99.3 kB\u001b[0m \u001b[31m?\u001b[0m eta \u001b[36m-:--:--\u001b[0m\r\u001b[2K     \u001b[90m━━━━━━━━━━━━━━━━━━━━━━━━━━━━━━━━━━━━━━━━\u001b[0m \u001b[32m99.3/99.3 kB\u001b[0m \u001b[31m3.0 MB/s\u001b[0m eta \u001b[36m0:00:00\u001b[0m\n",
            "\u001b[?25h  Preparing metadata (setup.py) ... \u001b[?25l\u001b[?25hdone\n",
            "Building wheels for collected packages: paho-mqtt\n",
            "  Building wheel for paho-mqtt (setup.py) ... \u001b[?25l\u001b[?25hdone\n",
            "  Created wheel for paho-mqtt: filename=paho_mqtt-1.6.0-py3-none-any.whl size=62082 sha256=c17e6be16ae7a328e0c7f3477ead8c8c762f30e82dc55f86d8a8da296c06ec6c\n",
            "  Stored in directory: /root/.cache/pip/wheels/d6/35/20/c6cfdc25b44aeaf02a401de826f44607e3818b4c9f0d0b9ffc\n",
            "Successfully built paho-mqtt\n",
            "Installing collected packages: paho-mqtt\n",
            "  Attempting uninstall: paho-mqtt\n",
            "    Found existing installation: paho-mqtt 2.1.0\n",
            "    Uninstalling paho-mqtt-2.1.0:\n",
            "      Successfully uninstalled paho-mqtt-2.1.0\n",
            "Successfully installed paho-mqtt-1.6.0\n"
          ]
        }
      ],
      "source": [
        "!pip install paho-mqtt==1.6"
      ]
    },
    {
      "cell_type": "code",
      "source": [
        "import paho.mqtt.client as mqtt\n",
        "import time\n",
        "\n",
        "client=mqtt.Client()\n",
        "client.connect('broker.hivemq.com',1883)\n",
        "print('Broker Connected')\n",
        "while True:\n",
        "  client.publish('atal/gpcet','We are in FDP')\n",
        "  time.sleep(3)\n",
        "  print('Published to Broker')"
      ],
      "metadata": {
        "colab": {
          "base_uri": "https://localhost:8080/",
          "height": 1000
        },
        "id": "0UrRsvQr0iCm",
        "outputId": "0ad3b574-7180-494d-bbbe-54f6ebf8a179"
      },
      "execution_count": 10,
      "outputs": [
        {
          "output_type": "stream",
          "name": "stdout",
          "text": [
            "Broker Connected\n",
            "Published to Broker\n",
            "Published to Broker\n",
            "Published to Broker\n",
            "Published to Broker\n",
            "Published to Broker\n",
            "Published to Broker\n",
            "Published to Broker\n",
            "Published to Broker\n",
            "Published to Broker\n",
            "Published to Broker\n",
            "Published to Broker\n",
            "Published to Broker\n",
            "Published to Broker\n",
            "Published to Broker\n",
            "Published to Broker\n",
            "Published to Broker\n",
            "Published to Broker\n",
            "Published to Broker\n",
            "Published to Broker\n",
            "Published to Broker\n",
            "Published to Broker\n",
            "Published to Broker\n",
            "Published to Broker\n",
            "Published to Broker\n",
            "Published to Broker\n",
            "Published to Broker\n",
            "Published to Broker\n",
            "Published to Broker\n",
            "Published to Broker\n",
            "Published to Broker\n",
            "Published to Broker\n",
            "Published to Broker\n",
            "Published to Broker\n",
            "Published to Broker\n",
            "Published to Broker\n",
            "Published to Broker\n",
            "Published to Broker\n",
            "Published to Broker\n",
            "Published to Broker\n",
            "Published to Broker\n",
            "Published to Broker\n",
            "Published to Broker\n",
            "Published to Broker\n",
            "Published to Broker\n",
            "Published to Broker\n",
            "Published to Broker\n",
            "Published to Broker\n",
            "Published to Broker\n",
            "Published to Broker\n",
            "Published to Broker\n",
            "Published to Broker\n",
            "Published to Broker\n",
            "Published to Broker\n",
            "Published to Broker\n",
            "Published to Broker\n",
            "Published to Broker\n",
            "Published to Broker\n",
            "Published to Broker\n",
            "Published to Broker\n",
            "Published to Broker\n",
            "Published to Broker\n",
            "Published to Broker\n",
            "Published to Broker\n",
            "Published to Broker\n",
            "Published to Broker\n",
            "Published to Broker\n",
            "Published to Broker\n",
            "Published to Broker\n",
            "Published to Broker\n",
            "Published to Broker\n",
            "Published to Broker\n",
            "Published to Broker\n",
            "Published to Broker\n",
            "Published to Broker\n",
            "Published to Broker\n",
            "Published to Broker\n",
            "Published to Broker\n",
            "Published to Broker\n",
            "Published to Broker\n",
            "Published to Broker\n",
            "Published to Broker\n",
            "Published to Broker\n",
            "Published to Broker\n",
            "Published to Broker\n",
            "Published to Broker\n",
            "Published to Broker\n",
            "Published to Broker\n",
            "Published to Broker\n",
            "Published to Broker\n"
          ]
        },
        {
          "output_type": "error",
          "ename": "KeyboardInterrupt",
          "evalue": "",
          "traceback": [
            "\u001b[0;31m---------------------------------------------------------------------------\u001b[0m",
            "\u001b[0;31mKeyboardInterrupt\u001b[0m                         Traceback (most recent call last)",
            "\u001b[0;32m/tmp/ipython-input-10-3846900324.py\u001b[0m in \u001b[0;36m<cell line: 0>\u001b[0;34m()\u001b[0m\n\u001b[1;32m      7\u001b[0m \u001b[0;32mwhile\u001b[0m \u001b[0;32mTrue\u001b[0m\u001b[0;34m:\u001b[0m\u001b[0;34m\u001b[0m\u001b[0;34m\u001b[0m\u001b[0m\n\u001b[1;32m      8\u001b[0m   \u001b[0mclient\u001b[0m\u001b[0;34m.\u001b[0m\u001b[0mpublish\u001b[0m\u001b[0;34m(\u001b[0m\u001b[0;34m'atal/gpcet'\u001b[0m\u001b[0;34m,\u001b[0m\u001b[0;34m'We are in FDP'\u001b[0m\u001b[0;34m)\u001b[0m\u001b[0;34m\u001b[0m\u001b[0;34m\u001b[0m\u001b[0m\n\u001b[0;32m----> 9\u001b[0;31m   \u001b[0mtime\u001b[0m\u001b[0;34m.\u001b[0m\u001b[0msleep\u001b[0m\u001b[0;34m(\u001b[0m\u001b[0;36m3\u001b[0m\u001b[0;34m)\u001b[0m\u001b[0;34m\u001b[0m\u001b[0;34m\u001b[0m\u001b[0m\n\u001b[0m\u001b[1;32m     10\u001b[0m   \u001b[0mprint\u001b[0m\u001b[0;34m(\u001b[0m\u001b[0;34m'Published to Broker'\u001b[0m\u001b[0;34m)\u001b[0m\u001b[0;34m\u001b[0m\u001b[0;34m\u001b[0m\u001b[0m\n",
            "\u001b[0;31mKeyboardInterrupt\u001b[0m: "
          ]
        }
      ]
    },
    {
      "cell_type": "code",
      "source": [
        "import paho.mqtt.client as mqtt\n",
        "\n",
        "client=mqtt.Client()\n",
        "client.connect('broker.hivemq.com',1883)\n",
        "print('Broker Connected')\n",
        "client.subscribe('atal/gpcet')\n",
        "\n",
        "def notification(client,userdata,msg):\n",
        "  print(msg.payload)\n",
        "\n",
        "client.on_message=notification\n",
        "client.loop_forever()"
      ],
      "metadata": {
        "colab": {
          "base_uri": "https://localhost:8080/",
          "height": 339
        },
        "id": "vaChx9FZ2NBM",
        "outputId": "afcf2769-c8f6-4448-c402-07f384e9df5e"
      },
      "execution_count": 8,
      "outputs": [
        {
          "output_type": "stream",
          "name": "stdout",
          "text": [
            "Broker Connected\n"
          ]
        },
        {
          "output_type": "error",
          "ename": "KeyboardInterrupt",
          "evalue": "",
          "traceback": [
            "\u001b[0;31m---------------------------------------------------------------------------\u001b[0m",
            "\u001b[0;31mKeyboardInterrupt\u001b[0m                         Traceback (most recent call last)",
            "\u001b[0;32m/tmp/ipython-input-8-2263025307.py\u001b[0m in \u001b[0;36m<cell line: 0>\u001b[0;34m()\u001b[0m\n\u001b[1;32m     10\u001b[0m \u001b[0;34m\u001b[0m\u001b[0m\n\u001b[1;32m     11\u001b[0m \u001b[0mclient\u001b[0m\u001b[0;34m.\u001b[0m\u001b[0mon_message\u001b[0m\u001b[0;34m=\u001b[0m\u001b[0mnotification\u001b[0m\u001b[0;34m\u001b[0m\u001b[0;34m\u001b[0m\u001b[0m\n\u001b[0;32m---> 12\u001b[0;31m \u001b[0mclient\u001b[0m\u001b[0;34m.\u001b[0m\u001b[0mloop_forever\u001b[0m\u001b[0;34m(\u001b[0m\u001b[0;34m)\u001b[0m\u001b[0;34m\u001b[0m\u001b[0;34m\u001b[0m\u001b[0m\n\u001b[0m",
            "\u001b[0;32m/usr/local/lib/python3.11/dist-packages/paho/mqtt/client.py\u001b[0m in \u001b[0;36mloop_forever\u001b[0;34m(self, timeout, max_packets, retry_first_connection)\u001b[0m\n\u001b[1;32m   1748\u001b[0m             \u001b[0mrc\u001b[0m \u001b[0;34m=\u001b[0m \u001b[0mMQTT_ERR_SUCCESS\u001b[0m\u001b[0;34m\u001b[0m\u001b[0;34m\u001b[0m\u001b[0m\n\u001b[1;32m   1749\u001b[0m             \u001b[0;32mwhile\u001b[0m \u001b[0mrc\u001b[0m \u001b[0;34m==\u001b[0m \u001b[0mMQTT_ERR_SUCCESS\u001b[0m\u001b[0;34m:\u001b[0m\u001b[0;34m\u001b[0m\u001b[0;34m\u001b[0m\u001b[0m\n\u001b[0;32m-> 1750\u001b[0;31m                 \u001b[0mrc\u001b[0m \u001b[0;34m=\u001b[0m \u001b[0mself\u001b[0m\u001b[0;34m.\u001b[0m\u001b[0m_loop\u001b[0m\u001b[0;34m(\u001b[0m\u001b[0mtimeout\u001b[0m\u001b[0;34m)\u001b[0m\u001b[0;34m\u001b[0m\u001b[0;34m\u001b[0m\u001b[0m\n\u001b[0m\u001b[1;32m   1751\u001b[0m                 \u001b[0;31m# We don't need to worry about locking here, because we've\u001b[0m\u001b[0;34m\u001b[0m\u001b[0;34m\u001b[0m\u001b[0m\n\u001b[1;32m   1752\u001b[0m                 \u001b[0;31m# either called loop_forever() when in single threaded mode, or\u001b[0m\u001b[0;34m\u001b[0m\u001b[0;34m\u001b[0m\u001b[0m\n",
            "\u001b[0;32m/usr/local/lib/python3.11/dist-packages/paho/mqtt/client.py\u001b[0m in \u001b[0;36m_loop\u001b[0;34m(self, timeout)\u001b[0m\n\u001b[1;32m   1142\u001b[0m \u001b[0;34m\u001b[0m\u001b[0m\n\u001b[1;32m   1143\u001b[0m         \u001b[0;32mtry\u001b[0m\u001b[0;34m:\u001b[0m\u001b[0;34m\u001b[0m\u001b[0;34m\u001b[0m\u001b[0m\n\u001b[0;32m-> 1144\u001b[0;31m             \u001b[0msocklist\u001b[0m \u001b[0;34m=\u001b[0m \u001b[0mselect\u001b[0m\u001b[0;34m.\u001b[0m\u001b[0mselect\u001b[0m\u001b[0;34m(\u001b[0m\u001b[0mrlist\u001b[0m\u001b[0;34m,\u001b[0m \u001b[0mwlist\u001b[0m\u001b[0;34m,\u001b[0m \u001b[0;34m[\u001b[0m\u001b[0;34m]\u001b[0m\u001b[0;34m,\u001b[0m \u001b[0mtimeout\u001b[0m\u001b[0;34m)\u001b[0m\u001b[0;34m\u001b[0m\u001b[0;34m\u001b[0m\u001b[0m\n\u001b[0m\u001b[1;32m   1145\u001b[0m         \u001b[0;32mexcept\u001b[0m \u001b[0mTypeError\u001b[0m\u001b[0;34m:\u001b[0m\u001b[0;34m\u001b[0m\u001b[0;34m\u001b[0m\u001b[0m\n\u001b[1;32m   1146\u001b[0m             \u001b[0;31m# Socket isn't correct type, in likelihood connection is lost\u001b[0m\u001b[0;34m\u001b[0m\u001b[0;34m\u001b[0m\u001b[0m\n",
            "\u001b[0;31mKeyboardInterrupt\u001b[0m: "
          ]
        }
      ]
    }
  ]
}